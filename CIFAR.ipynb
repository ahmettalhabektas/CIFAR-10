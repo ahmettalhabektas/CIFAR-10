{
 "cells": [
  {
   "cell_type": "code",
   "execution_count": 1,
   "metadata": {
    "colab": {
     "base_uri": "https://localhost:8080/"
    },
    "id": "ZbVPvuxoi1yl",
    "outputId": "76acaf68-efc9-4268-a138-fccd5bf8b53c"
   },
   "outputs": [
    {
     "name": "stdout",
     "output_type": "stream",
     "text": [
      "Drive already mounted at /content/drive; to attempt to forcibly remount, call drive.mount(\"/content/drive\", force_remount=True).\n"
     ]
    }
   ],
   "source": [
    "from google.colab import drive\n",
    "drive.mount(\"/content/drive\")"
   ]
  },
  {
   "cell_type": "code",
   "execution_count": 2,
   "metadata": {
    "id": "giIQd0upUNg0"
   },
   "outputs": [],
   "source": [
    "import tensorflow as tf\n",
    "from tensorflow import keras"
   ]
  },
  {
   "cell_type": "code",
   "execution_count": 3,
   "metadata": {
    "id": "FeLRfsjfi4gd"
   },
   "outputs": [],
   "source": [
    "from tensorflow.keras.datasets import cifar10\n",
    "\n",
    "(train_images,train_labels),(test_images,test_labels)= cifar10.load_data()"
   ]
  },
  {
   "cell_type": "code",
   "execution_count": 4,
   "metadata": {
    "colab": {
     "base_uri": "https://localhost:8080/"
    },
    "id": "TuvMBzTtjInI",
    "outputId": "44bd8eac-cf01-4e42-be82-1e8b9265bf14"
   },
   "outputs": [
    {
     "data": {
      "text/plain": [
       "(50000, 32, 32, 3)"
      ]
     },
     "execution_count": 4,
     "metadata": {},
     "output_type": "execute_result"
    }
   ],
   "source": [
    "train_images.shape"
   ]
  },
  {
   "cell_type": "code",
   "execution_count": 5,
   "metadata": {
    "colab": {
     "base_uri": "https://localhost:8080/"
    },
    "id": "hlCa4xrUjVWa",
    "outputId": "164cab02-60ce-462a-868a-084137c4dcb8"
   },
   "outputs": [
    {
     "data": {
      "text/plain": [
       "(50000, 1)"
      ]
     },
     "execution_count": 5,
     "metadata": {},
     "output_type": "execute_result"
    }
   ],
   "source": [
    "train_labels.shape"
   ]
  },
  {
   "cell_type": "code",
   "execution_count": 6,
   "metadata": {
    "colab": {
     "base_uri": "https://localhost:8080/"
    },
    "id": "Pl5x0pyrTgFv",
    "outputId": "d4f098b9-df56-44e4-9aea-4a7348bd6aed"
   },
   "outputs": [
    {
     "data": {
      "text/plain": [
       "array([[6],\n",
       "       [9],\n",
       "       [9],\n",
       "       ...,\n",
       "       [9],\n",
       "       [1],\n",
       "       [1]], dtype=uint8)"
      ]
     },
     "execution_count": 6,
     "metadata": {},
     "output_type": "execute_result"
    }
   ],
   "source": [
    "train_labels"
   ]
  },
  {
   "cell_type": "code",
   "execution_count": 7,
   "metadata": {
    "colab": {
     "base_uri": "https://localhost:8080/",
     "height": 283
    },
    "id": "qSHUsVKkTdXB",
    "outputId": "41232561-95f0-4c4e-aea7-41a5731578c9"
   },
   "outputs": [
    {
     "data": {
      "text/plain": [
       "<matplotlib.image.AxesImage at 0x7f93b581f8d0>"
      ]
     },
     "execution_count": 7,
     "metadata": {},
     "output_type": "execute_result"
    },
    {
     "data": {
      "image/png": "[encoded data removed]",
      "text/plain": [
       "<Figure size 432x288 with 1 Axes>"
      ]
     },
     "metadata": {
      "needs_background": "light"
     },
     "output_type": "display_data"
    }
   ],
   "source": [
    "from matplotlib import pyplot as plt\n",
    "plt.imshow(train_images[2],cmap=\"Greys\")"
   ]
  },
  {
   "cell_type": "code",
   "execution_count": 7,
   "metadata": {
    "id": "u5mZ473y9S0R"
   },
   "outputs": [],
   "source": []
  },
  {
   "cell_type": "code",
   "execution_count": 8,
   "metadata": {
    "colab": {
     "base_uri": "https://localhost:8080/",
     "height": 283
    },
    "id": "6iyhg0cUTeNO",
    "outputId": "5821334a-82d3-44ba-ea5c-b3f3b9286f43"
   },
   "outputs": [
    {
     "data": {
      "text/plain": [
       "<matplotlib.image.AxesImage at 0x7f93b5344e50>"
      ]
     },
     "execution_count": 8,
     "metadata": {},
     "output_type": "execute_result"
    },
    {
     "data": {
      "image/png": "[encoded data removed]",
      "text/plain": [
       "<Figure size 432x288 with 1 Axes>"
      ]
     },
     "metadata": {
      "needs_background": "light"
     },
     "output_type": "display_data"
    }
   ],
   "source": [
    "plt.imshow(train_images[42],cmap=\"magma\")\n"
   ]
  },
  {
   "cell_type": "code",
   "execution_count": 9,
   "metadata": {
    "colab": {
     "base_uri": "https://localhost:8080/",
     "height": 283
    },
    "id": "5bhLcL0Wjh1U",
    "outputId": "c12718ea-e9d1-4e5f-a742-2d4a5e66acb7"
   },
   "outputs": [
    {
     "data": {
      "text/plain": [
       "<matplotlib.image.AxesImage at 0x7f93b52c5a50>"
      ]
     },
     "execution_count": 9,
     "metadata": {},
     "output_type": "execute_result"
    },
    {
     "data": {
      "image/png": "[encoded data removed]",
      "text/plain": [
       "<Figure size 432x288 with 1 Axes>"
      ]
     },
     "metadata": {
      "needs_background": "light"
     },
     "output_type": "display_data"
    }
   ],
   "source": [
    "plt.imshow(train_images[5000],cmap=\"gray\")\n"
   ]
  },
  {
   "cell_type": "code",
   "execution_count": 9,
   "metadata": {
    "id": "7FNrdvVijmvi"
   },
   "outputs": [],
   "source": []
  },
  {
   "cell_type": "code",
   "execution_count": 10,
   "metadata": {
    "id": "atcNiUXkTNEZ"
   },
   "outputs": [],
   "source": [
    "#Normalize ediyoruz resimleri\n",
    "train_images=train_images/255.0\n",
    "test_images=test_images/255.0"
   ]
  },
  {
   "cell_type": "code",
   "execution_count": 12,
   "metadata": {
    "id": "NFiDttWKTuxA"
   },
   "outputs": [],
   "source": [
    "#Define the model architectrue\n",
    "# Modelin mimarisini oluşturalım\n",
    "\n",
    "model=keras.Sequential ([\n",
    "    keras.layers.Conv2D(32,(3,3), activation=tf.nn.relu ,input_shape=(32,32,3)),\n",
    "    keras.layers.Conv2D(64,(3,3), activation=tf.nn.relu),\n",
    "    keras.layers.MaxPooling2D(pool_size=(2,2)),\n",
    "    keras.layers.BatchNormalization(),\n",
    "    keras.layers.Flatten() ,\n",
    "    keras.layers.Dense(100,activation=\"relu\"),\n",
    "    keras.layers.BatchNormalization(),\n",
    "    keras.layers.Flatten() ,\n",
    "    keras.layers.Dense(150,activation=\"relu\"),\n",
    "    keras.layers.BatchNormalization(),\n",
    "    keras.layers.Flatten() ,\n",
    "    keras.layers.Dense(200,activation=\"relu\"),\n",
    "    # ... attach a new head to act as a classifier.\n",
    "    keras.layers.BatchNormalization(),\n",
    "    keras.layers.Flatten() ,\n",
    "    keras.layers.Dense(10, activation='softmax')\n",
    "    ])\n",
    "# her resim 28 piksele 28 piksel o yüzden input_shape=(28,28) (1.)\n",
    "# tamam 28 piksel ama onun 1 yani gri olduğunu gösteren bir şeyimiz yok bu sebeple bunu reshape(yeniden sekillendirmek)yapıyoruz(2.)\n",
    "# derin öğrenme resimlere kendi ürettiği filtereleri kullanrak daha iyi sonuç buluyor Burda 12. fitreyi kullanıyor(3.)\n",
    "# MaxPooling2D = aynı sayılardaki batch size gibi mesela bu örnekte hep 2 ye 2 piksel alıp götürcek(4.)\n",
    "#Flatten bu layerlar katman katman Flatten bunları birleştiriyor (5.)\n",
    "#"
   ]
  },
  {
   "cell_type": "code",
   "execution_count": null,
   "metadata": {
    "id": "AOKiELD0UIdI"
   },
   "outputs": [],
   "source": [
    "# Train the digit classification model\n",
    "model.compile(optimizer=\"adam\",\n",
    " loss=tf.keras.losses.SparseCategoricalCrossentropy(from_logits=True),\n",
    " metrics=[\"accuracy\"])\n",
    "model.summary()"
   ]
  },
  {
   "cell_type": "code",
   "execution_count": 19,
   "metadata": {
    "colab": {
     "base_uri": "https://localhost:8080/"
    },
    "id": "B0DTvbkbUTf8",
    "outputId": "772271ec-7fdd-4361-90b3-38e1e05db681"
   },
   "outputs": [
    {
     "name": "stdout",
     "output_type": "stream",
     "text": [
      "Epoch 1/10\n",
      "1407/1407 [==============================] - 174s 123ms/step - loss: 0.0566 - accuracy: 0.9807 - val_loss: 1.9382 - val_accuracy: 0.6840\n",
      "Epoch 2/10\n",
      "1407/1407 [==============================] - 167s 119ms/step - loss: 0.0526 - accuracy: 0.9823 - val_loss: 1.9989 - val_accuracy: 0.6794\n",
      "Epoch 3/10\n",
      "1407/1407 [==============================] - 166s 118ms/step - loss: 0.0497 - accuracy: 0.9831 - val_loss: 1.8807 - val_accuracy: 0.6840\n",
      "Epoch 4/10\n",
      "1407/1407 [==============================] - 166s 118ms/step - loss: 0.0495 - accuracy: 0.9828 - val_loss: 1.9893 - val_accuracy: 0.6820\n",
      "Epoch 5/10\n",
      "1407/1407 [==============================] - 170s 121ms/step - loss: 0.0455 - accuracy: 0.9841 - val_loss: 2.0462 - val_accuracy: 0.6822\n",
      "Epoch 6/10\n",
      "1407/1407 [==============================] - 169s 120ms/step - loss: 0.0513 - accuracy: 0.9828 - val_loss: 1.9773 - val_accuracy: 0.6890\n",
      "Epoch 7/10\n",
      "1407/1407 [==============================] - 169s 120ms/step - loss: 0.0463 - accuracy: 0.9844 - val_loss: 1.9057 - val_accuracy: 0.6894\n",
      "Epoch 8/10\n",
      "1407/1407 [==============================] - 171s 122ms/step - loss: 0.0441 - accuracy: 0.9852 - val_loss: 1.9934 - val_accuracy: 0.6868\n",
      "1407/1407 [==============================] - 171s 122ms/step - loss: 0.0441 - accuracy: 0.9852 - val_loss: 1.9934 - val_accuracy: 0.6868\n",
      "Epoch 9/10\n",
      "Epoch 9/10\n",
      "1407/1407 [==============================] - 174s 124ms/step - loss: 0.0408 - accuracy: 0.9858 - val_loss: 1.9751 - val_accuracy: 0.6896\n",
      "1407/1407 [==============================] - 174s 124ms/step - loss: 0.0408 - accuracy: 0.9858 - val_loss: 1.9751 - val_accuracy: 0.6896\n",
      "Epoch 10/10\n",
      "Epoch 10/10\n",
      "1407/1407 [==============================] - 176s 125ms/step - loss: 0.0448 - accuracy: 0.9850 - val_loss: 2.0311 - val_accuracy: 0.6862\n",
      "1407/1407 [==============================] - 176s 125ms/step - loss: 0.0448 - accuracy: 0.9850 - val_loss: 2.0311 - val_accuracy: 0.6862\n"
     ]
    },
    {
     "data": {
      "text/plain": [
       "<keras.callbacks.History at 0x7f93a68ba590>"
      ]
     },
     "execution_count": 19,
     "metadata": {},
     "output_type": "execute_result"
    },
    {
     "data": {
      "text/plain": [
       "<keras.callbacks.History at 0x7f93a68ba590>"
      ]
     },
     "execution_count": 19,
     "metadata": {},
     "output_type": "execute_result"
    }
   ],
   "source": [
    "from traitlets.traitlets import validate\n",
    "model.fit(train_images,train_labels,\n",
    "          epochs=10,validation_split=0.1,verbose=1)"
   ]
  },
  {
   "cell_type": "code",
   "execution_count": 20,
   "metadata": {
    "colab": {
     "base_uri": "https://localhost:8080/"
    },
    "id": "XFCgFiJvUV8h",
    "outputId": "8423b727-1ee0-42b2-e8c3-e1a27a2e0ab8"
   },
   "outputs": [
    {
     "name": "stdout",
     "output_type": "stream",
     "text": [
      "313/313 [==============================] - 11s 34ms/step - loss: 2.0954 - accuracy: 0.6741\n",
      "313/313 [==============================] - 11s 34ms/step - loss: 2.0954 - accuracy: 0.6741\n",
      "Accuracy:67.41\n",
      "Accuracy:67.41\n"
     ]
    }
   ],
   "source": [
    "_, accuracy=model.evaluate(test_images,test_labels)\n",
    "# Normalde accuracy ile beraber bir şey daha var ama onu kullanmıcaz o sebeten mütevellit _, ile başladık . yani onu görmezden geldik\n",
    "print(\"Accuracy:%.2f\"%(accuracy*100))\n"
   ]
  },
  {
   "cell_type": "code",
   "execution_count": null,
   "metadata": {
    "id": "GIKankDjmYhK"
   },
   "outputs": [],
   "source": []
  }
 ],
 "metadata": {
  "accelerator": "TPU",
  "colab": {
   "collapsed_sections": [],
   "name": "CIFAR.ipynb",
   "provenance": []
  },
  "gpuClass": "standard",
  "kernelspec": {
   "display_name": "Python 3 (ipykernel)",
   "language": "python",
   "name": "python3"
  },
  "language_info": {
   "codemirror_mode": {
    "name": "ipython",
    "version": 3
   },
   "file_extension": ".py",
   "mimetype": "text/x-python",
   "name": "python",
   "nbconvert_exporter": "python",
   "pygments_lexer": "ipython3",
   "version": "3.9.7"
  }
 },
 "nbformat": 4,
 "nbformat_minor": 1
}
